{
  "nbformat": 4,
  "nbformat_minor": 0,
  "metadata": {
    "colab": {
      "provenance": [],
      "authorship_tag": "ABX9TyPfRTLMI7kjhe66OGitD5/Q",
      "include_colab_link": true
    },
    "kernelspec": {
      "name": "python3",
      "display_name": "Python 3"
    },
    "language_info": {
      "name": "python"
    }
  },
  "cells": [
    {
      "cell_type": "markdown",
      "metadata": {
        "id": "view-in-github",
        "colab_type": "text"
      },
      "source": [
        "<a href=\"https://colab.research.google.com/github/MoisesMartinez1305/ESTRUC.-Y-ORGANIZACI-N-DE-DATOS/blob/UNIDAD-1/Video.ipynb\" target=\"_parent\"><img src=\"https://colab.research.google.com/assets/colab-badge.svg\" alt=\"Open In Colab\"/></a>"
      ]
    },
    {
      "cell_type": "markdown",
      "source": [],
      "metadata": {
        "id": "-vkHzY2tI0YO"
      }
    },
    {
      "cell_type": "code",
      "source": [
        "https://drive.google.com/file/d/10NrFU-kgnc8iKrAQywojaCvJaq51pgxU/view?usp=drivesdk"
      ],
      "metadata": {
        "id": "A3eO9XlqKdk_"
      },
      "execution_count": null,
      "outputs": []
    }
  ]
}