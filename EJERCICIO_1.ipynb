{
  "nbformat": 4,
  "nbformat_minor": 0,
  "metadata": {
    "colab": {
      "name": "EJERCICIO 1",
      "provenance": [],
      "collapsed_sections": [],
      "authorship_tag": "ABX9TyOtbCXXmMSIPfS+nZECIBSK",
      "include_colab_link": true
    },
    "kernelspec": {
      "name": "python3",
      "display_name": "Python 3"
    },
    "language_info": {
      "name": "python"
    }
  },
  "cells": [
    {
      "cell_type": "markdown",
      "metadata": {
        "id": "view-in-github",
        "colab_type": "text"
      },
      "source": [
        "<a href=\"https://colab.research.google.com/github/MoisesMartinez1305/ESTRUC.-Y-ORGANIZACI-N-DE-DATOS/blob/main/EJERCICIO_1.ipynb\" target=\"_parent\"><img src=\"https://colab.research.google.com/assets/colab-badge.svg\" alt=\"Open In Colab\"/></a>"
      ]
    },
    {
      "cell_type": "code",
      "execution_count": null,
      "metadata": {
        "colab": {
          "base_uri": "https://localhost:8080/"
        },
        "id": "DrjUKxXe_x6k",
        "outputId": "a6812221-3c6b-4d7c-a5bb-85cf03118bad"
      },
      "outputs": [
        {
          "output_type": "stream",
          "name": "stdout",
          "text": [
            "['HOLA', 'A', 'MI', 'QUERIDO', 'AMIGO']\n",
            "['HOLA', 'QUERIDO', 'PROFE']\n",
            "las palabras iguales son: HOLA\n",
            "las palabras iguales son: QUERIDO\n"
          ]
        }
      ],
      "source": [
        "texto= \"HOLA A MI QUERIDO AMIGO\"\n",
        "X=texto.split()\n",
        "print(X)\n",
        "texto2= \"HOLA QUERIDO PROFE\"\n",
        "X2=texto2.split()\n",
        "print(X2)\n",
        "if texto == texto2:\n",
        "  print(\"las dos frases son iguales \")\n",
        "if X[0]==X2[0] or X[0]==X2[1] or  X[0]==X2[2]:\n",
        "  print(\"las palabras iguales son:\",X[0])\n",
        "if X[1]==X2[0] or X[1]==X2[1] or X[1]==X2[2]:\n",
        "  print(\"las palabras iguales son:\",X[1])\n",
        "if  X[2]==X2[0] or X[2]==X2[1] or X[2]==X2[2]:\n",
        "  print(\"las palabras iguales son:\",X[2])\n",
        "if X[3]==X2[0] or X[3]==X2[1] or X[3]==X2[2]:\n",
        "  print(\"las palabras iguales son:\",X[3])\n",
        "if X[4]==X2[0] or X[4]==X2[1] or X[4]==X2[2]:\n",
        "  print(\"las palabras iguales son:\",X[4])"
      ]
    }
  ]
}