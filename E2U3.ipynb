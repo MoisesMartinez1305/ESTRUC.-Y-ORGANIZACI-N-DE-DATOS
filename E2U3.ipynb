{
  "nbformat": 4,
  "nbformat_minor": 0,
  "metadata": {
    "colab": {
      "provenance": [],
      "authorship_tag": "ABX9TyMwzytlapLS+iQvFT+3TsSA",
      "include_colab_link": true
    },
    "kernelspec": {
      "name": "python3",
      "display_name": "Python 3"
    },
    "language_info": {
      "name": "python"
    }
  },
  "cells": [
    {
      "cell_type": "markdown",
      "metadata": {
        "id": "view-in-github",
        "colab_type": "text"
      },
      "source": [
        "<a href=\"https://colab.research.google.com/github/MoisesMartinez1305/ESTRUC.-Y-ORGANIZACI-N-DE-DATOS/blob/UNIDAD-3/E2U3.ipynb\" target=\"_parent\"><img src=\"https://colab.research.google.com/assets/colab-badge.svg\" alt=\"Open In Colab\"/></a>"
      ]
    },
    {
      "cell_type": "code",
      "execution_count": 1,
      "metadata": {
        "colab": {
          "base_uri": "https://localhost:8080/"
        },
        "id": "FKjfrPwPryyd",
        "outputId": "99a1c3ad-b29d-45a3-ddee-ad2264f48bc9"
      },
      "outputs": [
        {
          "output_type": "stream",
          "name": "stdout",
          "text": [
            "[66, 777, 12, 67, 89, 40]\n",
            "[777, 89, 67, 66, 40, 12]\n"
          ]
        }
      ],
      "source": [
        "def ordenar(lista, cant):\n",
        "  if cant>1:\n",
        "    for f in range(0, cant-1):\n",
        "      if lista[f]<lista[f + 1]:\n",
        "        aux=lista[f]\n",
        "        lista[f]=lista[f + 1]\n",
        "        lista[f + 1] = aux\n",
        "      ordenar(lista, cant - 1)\n",
        "\n",
        "datos=[66,777,12,67,89,40]*1\n",
        "print(datos)\n",
        "ordenar(datos, len(datos))\n",
        "print(datos)"
      ]
    }
  ]
}