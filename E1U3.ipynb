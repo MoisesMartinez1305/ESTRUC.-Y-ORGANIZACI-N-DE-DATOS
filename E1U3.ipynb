{
  "nbformat": 4,
  "nbformat_minor": 0,
  "metadata": {
    "colab": {
      "provenance": [],
      "authorship_tag": "ABX9TyP/KlIU+xIBzR98XTH9DFVY",
      "include_colab_link": true
    },
    "kernelspec": {
      "name": "python3",
      "display_name": "Python 3"
    },
    "language_info": {
      "name": "python"
    }
  },
  "cells": [
    {
      "cell_type": "markdown",
      "metadata": {
        "id": "view-in-github",
        "colab_type": "text"
      },
      "source": [
        "<a href=\"https://colab.research.google.com/github/MoisesMartinez1305/ESTRUC.-Y-ORGANIZACI-N-DE-DATOS/blob/UNIDAD-3/E1U3.ipynb\" target=\"_parent\"><img src=\"https://colab.research.google.com/assets/colab-badge.svg\" alt=\"Open In Colab\"/></a>"
      ]
    },
    {
      "cell_type": "code",
      "execution_count": 1,
      "metadata": {
        "colab": {
          "base_uri": "https://localhost:8080/"
        },
        "id": "dAoxL2r1rDWg",
        "outputId": "d810ef7b-af1a-4645-94b3-fa6ba2e70f2b"
      },
      "outputs": [
        {
          "output_type": "stream",
          "name": "stdout",
          "text": [
            "[44, 6, 9, 55, 69]\n",
            "el mayor es:  69\n"
          ]
        }
      ],
      "source": [
        "class Ejercicio1:\n",
        "  def Max(list):\n",
        "    if len(list) == 1:\n",
        "      return list[0]\n",
        "    else:\n",
        "       m = max(list[1:])    \n",
        "    return m if m > list[0] else list[0]\n",
        "\n",
        "  def listaN():\n",
        "    numeros = [44, 6, 9, 55, 69]\n",
        "    print(numeros)\n",
        "    print(\"el mayor es: \", max(numeros))\n",
        "\n",
        "obj=Ejercicio1\n",
        "obj.listaN()"
      ]
    }
  ]
}