{
  "nbformat": 4,
  "nbformat_minor": 0,
  "metadata": {
    "colab": {
      "provenance": [],
      "authorship_tag": "ABX9TyOy9ElpIsOHMYcDGY1OIkNt",
      "include_colab_link": true
    },
    "kernelspec": {
      "name": "python3",
      "display_name": "Python 3"
    },
    "language_info": {
      "name": "python"
    }
  },
  "cells": [
    {
      "cell_type": "markdown",
      "metadata": {
        "id": "view-in-github",
        "colab_type": "text"
      },
      "source": [
        "<a href=\"https://colab.research.google.com/github/MoisesMartinez1305/ESTRUC.-Y-ORGANIZACI-N-DE-DATOS/blob/UNIDAD-4/EjemOrdenamientoU4.ipynb\" target=\"_parent\"><img src=\"https://colab.research.google.com/assets/colab-badge.svg\" alt=\"Open In Colab\"/></a>"
      ]
    },
    {
      "cell_type": "code",
      "execution_count": 5,
      "metadata": {
        "colab": {
          "base_uri": "https://localhost:8080/"
        },
        "id": "fUkS2j-yxpzu",
        "outputId": "88d0f413-bf31-4a60-d052-bb0a4e132378"
      },
      "outputs": [
        {
          "output_type": "stream",
          "name": "stdout",
          "text": [
            "Lista ordenada: \n",
            "[12, 32, 43, 55, 82, 86]\n"
          ]
        }
      ],
      "source": [
        "A = [55, 86, 32, 12, 82, 43]\n",
        "\n",
        "num = len(A)\n",
        "i = 0\n",
        "while i < num:\n",
        "      j = i\n",
        "      while j < num:\n",
        "              if A[i] > A[j]:\n",
        "                      aux = A[i]\n",
        "                      A[i] = A[j]\n",
        "                      A[j] = aux\n",
        "              j = j + 1\n",
        "      i = i + 1\n",
        "\n",
        "print(\"Lista ordenada: \")\n",
        "print(A)"
      ]
    }
  ]
}