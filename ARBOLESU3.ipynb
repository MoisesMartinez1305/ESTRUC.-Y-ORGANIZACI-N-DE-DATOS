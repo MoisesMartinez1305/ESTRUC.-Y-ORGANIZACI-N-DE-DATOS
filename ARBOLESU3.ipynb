{
  "nbformat": 4,
  "nbformat_minor": 0,
  "metadata": {
    "colab": {
      "provenance": [],
      "authorship_tag": "ABX9TyOjhZq654ZIGiZr97U3z3GF",
      "include_colab_link": true
    },
    "kernelspec": {
      "name": "python3",
      "display_name": "Python 3"
    },
    "language_info": {
      "name": "python"
    }
  },
  "cells": [
    {
      "cell_type": "markdown",
      "metadata": {
        "id": "view-in-github",
        "colab_type": "text"
      },
      "source": [
        "<a href=\"https://colab.research.google.com/github/MoisesMartinez1305/ESTRUC.-Y-ORGANIZACI-N-DE-DATOS/blob/UNIDAD-3/ARBOLESU3.ipynb\" target=\"_parent\"><img src=\"https://colab.research.google.com/assets/colab-badge.svg\" alt=\"Open In Colab\"/></a>"
      ]
    },
    {
      "cell_type": "code",
      "execution_count": null,
      "metadata": {
        "colab": {
          "base_uri": "https://localhost:8080/"
        },
        "id": "MOmo_royk8mB",
        "outputId": "b6940268-7612-4ae4-f5b7-9a0bb9bb153d"
      },
      "outputs": [
        {
          "metadata": {
            "tags": null
          },
          "name": "stdout",
          "output_type": "stream",
          "text": [
            "Arboles_Binarios\n",
            "1. Agregar\n",
            "2. Preorden\n",
            "3. Postorden\n",
            "4. Inorden\n",
            "5. Salir\n"
          ]
        }
      ],
      "source": [
        "class Nodo:\n",
        "    def __init__(self, value=None, izq=None, der=None):\n",
        "        self.value = value\n",
        "        self.izq = izq\n",
        "        self.der = der\n",
        "\n",
        "    def __str__(self):\n",
        "        return self.value\n",
        "\n",
        "class aBinarios:\n",
        "    def __init__(self):\n",
        "        self.raiz = None\n",
        "    def agregar(self, elemento):\n",
        "\n",
        "        if self.raiz == None:\n",
        "            self.raiz = elemento\n",
        "        else:\n",
        "            aux = self.raiz\n",
        "            padre = None\n",
        "            while aux != None:\n",
        "                padre = aux\n",
        "                if int(elemento.value) >= int(aux.value): \n",
        "                    aux = aux.der\n",
        "                else:\n",
        "                    aux = aux.izq\n",
        "            if int(elemento.value) >= int(padre.value):\n",
        "                padre.der = elemento\n",
        "            else:\n",
        "                padre.izq = elemento\n",
        "\n",
        "    def preorden(self, elemento):\n",
        "        if elemento != None:\n",
        "            print(elemento)\n",
        "            self.preorden(elemento.izq)\n",
        "            self.preorden(elemento.der)\n",
        "\n",
        "    def postorden(self, elemento):\n",
        "        if elemento != None:\n",
        "            self.postorden(elemento.izq)\n",
        "            self.postorden(elemento.der)\n",
        "            print(elemento)\n",
        "\n",
        "    def inorden(self, elemento):\n",
        "        if elemento != None:\n",
        "            self.inorden(elemento.izq)\n",
        "            print(elemento)\n",
        "            self.inorden(elemento.der)\n",
        "\n",
        "    def getRaiz(self):\n",
        "        return self.raiz\n",
        "\n",
        "if __name__ == \"__main__\":\n",
        "    ab = aBinarios()\n",
        "    while(True):\n",
        "        print(\"Arboles_Binarios\\n\"+\n",
        "            \"1. Agregar\\n\"+\n",
        "            \"2. Preorden\\n\"+\n",
        "            \"3. Postorden\\n\"+\n",
        "            \"4. Inorden\\n\"+\n",
        "            \"5. Salir\")\n",
        "\n",
        "        num = input(\"ingrese la opcion: \")\n",
        "\n",
        "        if num == \"1\":\n",
        "            value = input(\"Ingrese el valor: \")\n",
        "            nod =Nodo(value)\n",
        "            ab.agregar(nod)\n",
        "\n",
        "        elif num == \"2\":\n",
        "            print(\"Preorden\")\n",
        "            ab.preorden(ab.getRaiz())\n",
        "        elif num == \"3\":\n",
        "            print(\"postorden\")\n",
        "            ab.postorden(ab.getRaiz())\n",
        "        elif num == \"4\":\n",
        "            print(\"inorden\")\n",
        "            ab.inorden(ab.getRaiz())\n",
        "        elif num == \"5\":\n",
        "            exit()"
      ]
    }
  ]
}