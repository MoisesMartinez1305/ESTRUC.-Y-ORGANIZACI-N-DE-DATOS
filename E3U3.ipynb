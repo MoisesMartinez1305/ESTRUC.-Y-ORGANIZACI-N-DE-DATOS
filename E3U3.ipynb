{
  "nbformat": 4,
  "nbformat_minor": 0,
  "metadata": {
    "colab": {
      "provenance": [],
      "authorship_tag": "ABX9TyPacTnQDT8tq0B6M8nRpLfn",
      "include_colab_link": true
    },
    "kernelspec": {
      "name": "python3",
      "display_name": "Python 3"
    },
    "language_info": {
      "name": "python"
    }
  },
  "cells": [
    {
      "cell_type": "markdown",
      "metadata": {
        "id": "view-in-github",
        "colab_type": "text"
      },
      "source": [
        "<a href=\"https://colab.research.google.com/github/MoisesMartinez1305/ESTRUC.-Y-ORGANIZACI-N-DE-DATOS/blob/UNIDAD-3/E3U3.ipynb\" target=\"_parent\"><img src=\"https://colab.research.google.com/assets/colab-badge.svg\" alt=\"Open In Colab\"/></a>"
      ]
    },
    {
      "cell_type": "code",
      "execution_count": 1,
      "metadata": {
        "colab": {
          "base_uri": "https://localhost:8080/"
        },
        "id": "eeON0jbyt5f4",
        "outputId": "13fbdc8a-a34b-4805-c45e-98f115288a05"
      },
      "outputs": [
        {
          "output_type": "stream",
          "name": "stdout",
          "text": [
            "ENTRADA\n",
            "M\n",
            "O\n",
            "I\n",
            "S\n",
            "SALIDA\n",
            "S\n",
            "I\n",
            "O\n",
            "M\n"
          ]
        }
      ],
      "source": [
        "pila = []\n",
        "print(\"ENTRADA\")\n",
        "pila.append('M')\n",
        "print('M')\n",
        "pila.append('O')\n",
        "print('O')\n",
        "pila.append('I')\n",
        "print('I')\n",
        "pila.append('S')\n",
        "print('S')\n",
        "\n",
        "\n",
        "print(\"SALIDA\")\n",
        "n=pila.pop()\n",
        "print(n)\n",
        "n=pila.pop()\n",
        "print(n)\n",
        "n=pila.pop()\n",
        "print(n)\n",
        "n=pila.pop()\n",
        "print(n)"
      ]
    }
  ]
}