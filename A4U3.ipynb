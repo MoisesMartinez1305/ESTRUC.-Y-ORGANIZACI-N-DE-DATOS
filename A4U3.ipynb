{
  "nbformat": 4,
  "nbformat_minor": 0,
  "metadata": {
    "colab": {
      "provenance": [],
      "authorship_tag": "ABX9TyOTXX2cjPeSYHt50XOwUTwU",
      "include_colab_link": true
    },
    "kernelspec": {
      "name": "python3",
      "display_name": "Python 3"
    },
    "language_info": {
      "name": "python"
    }
  },
  "cells": [
    {
      "cell_type": "markdown",
      "metadata": {
        "id": "view-in-github",
        "colab_type": "text"
      },
      "source": [
        "<a href=\"https://colab.research.google.com/github/MoisesMartinez1305/ESTRUC.-Y-ORGANIZACI-N-DE-DATOS/blob/UNIDAD-3/A4U3.ipynb\" target=\"_parent\"><img src=\"https://colab.research.google.com/assets/colab-badge.svg\" alt=\"Open In Colab\"/></a>"
      ]
    },
    {
      "cell_type": "code",
      "execution_count": null,
      "metadata": {
        "colab": {
          "base_uri": "https://localhost:8080/"
        },
        "id": "ZXBp5CPuudwU",
        "outputId": "e66fdff8-c481-4001-d911-178721bceeb6"
      },
      "outputs": [
        {
          "output_type": "stream",
          "name": "stdout",
          "text": [
            "ingresa la frase HOLA GUAPA\n",
            "ingresa la letra que deseas saber el indice G\n",
            "[5]\n"
          ]
        }
      ],
      "source": [
        "frase=\"\"\n",
        "letra = \"\"\n",
        "ubicacion=[]\n",
        "ubi=0\n",
        "def buscar ():\n",
        "    global frase\n",
        "    global letra\n",
        "    global ubicacion\n",
        "    global ubi\n",
        "    frase=input(\"ingresa la frase \")\n",
        "    letra = input(\"ingresa la letra que deseas saber el indice \")\n",
        "    ubi= frase.index(letra)\n",
        "    ubicacion.append(ubi)\n",
        "    print(ubicacion)\n",
        "    buscar()\n",
        "buscar()"
      ]
    }
  ]
}