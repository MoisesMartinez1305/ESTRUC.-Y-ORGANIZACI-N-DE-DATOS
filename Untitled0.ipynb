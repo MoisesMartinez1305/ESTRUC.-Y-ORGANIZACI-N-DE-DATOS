{
  "cells": [
    {
      "cell_type": "markdown",
      "metadata": {
        "id": "view-in-github",
        "colab_type": "text"
      },
      "source": [
        "<a href=\"https://colab.research.google.com/github/MoisesMartinez1305/ESTRUC.-Y-ORGANIZACI-N-DE-DATOS/blob/UNIDAD-1/Untitled0.ipynb\" target=\"_parent\"><img src=\"https://colab.research.google.com/assets/colab-badge.svg\" alt=\"Open In Colab\"/></a>"
      ]
    },
    {
      "cell_type": "code",
      "execution_count": null,
      "metadata": {
        "id": "qfU7DVymW3uM"
      },
      "outputs": [],
      "source": []
    },
    {
      "cell_type": "markdown",
      "metadata": {
        "id": "XI3wF7aXYHZB"
      },
      "source": [
        "Práctica1:COMPARACIÓN DE VECTORES\n",
        "\n",
        "Fecha: 22/08/2022\n",
        "\n",
        "Autor: MOISÉS MARTÍNEZ\n"
      ]
    },
    {
      "cell_type": "markdown",
      "metadata": {
        "id": "BZJkapkCZ1ZV"
      },
      "source": [
        "#\"ALGORITMO\"\n",
        "vamos a capturar un texto, lo vamos a pasar a un vector, y se va a comparar con otro vector y revisar todas o alguna de las palabras si están todas las palabras, se realiza una acción, si no, se realiza otra acción."
      ]
    },
    {
      "cell_type": "code",
      "execution_count": 7,
      "metadata": {
        "id": "UCsUEKtZaTDx"
      },
      "outputs": [],
      "source": [
        "texto=\"Hola, buenas tardes. Espero que te encuentres de la mejor manera. Bienvenido a programación\"\n",
        "atext=texto.split()"
      ]
    },
    {
      "cell_type": "code",
      "execution_count": 8,
      "metadata": {
        "colab": {
          "base_uri": "https://localhost:8080/"
        },
        "id": "yabSP496bL9K",
        "outputId": "702c247b-9b89-4f76-cea4-59cd7d7efbd8"
      },
      "outputs": [
        {
          "output_type": "stream",
          "name": "stdout",
          "text": [
            "['Hola,', 'buenas', 'tardes.', 'Espero', 'que', 'te', 'encuentres', 'de', 'la', 'mejor', 'manera.', 'Bienvenido', 'a', 'programación']\n"
          ]
        }
      ],
      "source": [
        "print(atext)"
      ]
    },
    {
      "cell_type": "code",
      "source": [
        "palabras=['Hola,','buen','bienvenido']"
      ],
      "metadata": {
        "id": "gCeghp05bG3z"
      },
      "execution_count": 19,
      "outputs": []
    },
    {
      "cell_type": "markdown",
      "source": [
        "BUSCAMOS SI EXISTE ALGUNA COINCIDENCIA"
      ],
      "metadata": {
        "id": "pcj7Z6vFbW4V"
      }
    },
    {
      "cell_type": "code",
      "source": [
        "if any(palabra in atext for palabra in palabras):\n",
        "  print(\"La frase es un saludo\")\n",
        "else:\n",
        "  print(\"La frase no es un saludo\")"
      ],
      "metadata": {
        "colab": {
          "base_uri": "https://localhost:8080/"
        },
        "id": "pjBOXmVSbcmz",
        "outputId": "96376e73-b36b-4e79-e08a-d264660a9a9a"
      },
      "execution_count": 20,
      "outputs": [
        {
          "output_type": "stream",
          "name": "stdout",
          "text": [
            "La frase es un saludo\n"
          ]
        }
      ]
    }
  ],
  "metadata": {
    "colab": {
      "name": "Untitled0.ipynb",
      "provenance": [],
      "authorship_tag": "ABX9TyPQkcWkbN7JWs8MDoP2sDDk",
      "include_colab_link": true
    },
    "kernelspec": {
      "display_name": "Python 3",
      "name": "python3"
    },
    "language_info": {
      "name": "python"
    }
  },
  "nbformat": 4,
  "nbformat_minor": 0
}