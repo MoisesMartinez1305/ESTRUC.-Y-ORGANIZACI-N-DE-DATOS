{
  "nbformat": 4,
  "nbformat_minor": 0,
  "metadata": {
    "colab": {
      "provenance": [],
      "authorship_tag": "ABX9TyOhSakkchpyzPLO8Oy9qxOe",
      "include_colab_link": true
    },
    "kernelspec": {
      "name": "python3",
      "display_name": "Python 3"
    },
    "language_info": {
      "name": "python"
    }
  },
  "cells": [
    {
      "cell_type": "markdown",
      "metadata": {
        "id": "view-in-github",
        "colab_type": "text"
      },
      "source": [
        "<a href=\"https://colab.research.google.com/github/MoisesMartinez1305/ESTRUC.-Y-ORGANIZACI-N-DE-DATOS/blob/UNIDAD-1/Examen_U2.ipynb\" target=\"_parent\"><img src=\"https://colab.research.google.com/assets/colab-badge.svg\" alt=\"Open In Colab\"/></a>"
      ]
    },
    {
      "cell_type": "code",
      "execution_count": null,
      "metadata": {
        "colab": {
          "base_uri": "https://localhost:8080/"
        },
        "id": "iv3tXzE6rlkY",
        "outputId": "1dbad1aa-eb70-4306-9d6b-1929efa062f7"
      },
      "outputs": [
        {
          "output_type": "stream",
          "name": "stdout",
          "text": [
            "1 Entregar lonche \n",
            "2 Captura comida \n",
            "3 Captura bebidas \n",
            "4 Captura postre \n",
            "Elige una opcion del 1-4: 2\n",
            "Ingresa la comida disponible: Pollo\n",
            "['Pollo']\n",
            "Elige una opcion del 1-4: 3\n",
            "Ingresa la bebida disponible: coca, jugo, refresco\n",
            "['coca, jugo, refresco']\n",
            "Elige una opcion del 1-4: 4\n",
            "Ingresa el postre disponible: flan, mermelada, durazno\n",
            "['flan, mermelada, durazno']\n",
            "Elige una opcion del 1-4: 1\n",
            "Ingresa tu nombre:Moy\n",
            "[['Pollo', 'coca, jugo, refresco', 'flan, mermelada, durazno', 'Moy']]\n"
          ]
        }
      ],
      "source": [
        "op=0\n",
        "print(\"1 Entregar lonche \")\n",
        "print(\"2 Captura comida \")\n",
        "print(\"3 Captura bebidas \")\n",
        "print(\"4 Captura postre \")\n",
        "comida=[]\n",
        "bebida=[]\n",
        "postre=[]\n",
        "comensales=[]\n",
        "entregas=[]\n",
        "x=[]\n",
        "def menu(op):\n",
        "  while op != 8:\n",
        "    op=int(input(\"Elige una opcion del 1-4: \"))\n",
        "    x=[]\n",
        "    if op ==1:\n",
        "      entregarL(x,entregas)\n",
        "    elif op ==2:\n",
        "        capturarC(comida)\n",
        "    elif op== 3:\n",
        "        capturarB(bebida)\n",
        "    elif op ==4:\n",
        "        capturarP(postre)\n",
        "    else:\n",
        "        print(\"Hasta luego\")\n",
        "def entregarL(x,entregas):\n",
        "    comensales.append(input(\"Ingresa tu nombre:\") )\n",
        "    try:\n",
        "        x.append(comida.pop(0))\n",
        "    except:\n",
        "        print(\"No hay comida disponible\")\n",
        "    try:\n",
        "        x.append(bebida.pop())\n",
        "    except:\n",
        "        print(\"No hay bebidas disponibles\")\n",
        "    try:\n",
        "        x.append(postre.pop())\n",
        "    except:\n",
        "        print(\"No hay postre disponible \")\n",
        "    x.append(comensales[-1])\n",
        "    entregas.append(x)\n",
        "    print(entregas)\n",
        "def capturarC(comida):\n",
        "    if len(comida) <= 4:\n",
        "        comida.append(input(\"Ingresa la comida disponible: \"))\n",
        "        print (comida)\n",
        "    else:\n",
        "        print(\"Ya no se pueden incluir comidas\")\n",
        "def capturarB(bebida):\n",
        "    if len(bebida) <= 4:\n",
        "        bebida.append(input(\"Ingresa la bebida disponible: \"))\n",
        "        print(bebida)\n",
        "    else:\n",
        "        print(\"Ya no se pueden incluir bebidas \")\n",
        "def capturarP(postre):\n",
        "    if len(postre) <= 4:\n",
        "        postre.append(input(\"Ingresa el postre disponible: \"))\n",
        "        print(postre)\n",
        "    else:\n",
        "      print(\"Ya no se pueden incluir postres\")\n",
        "menu(op)"
      ]
    }
  ]
}