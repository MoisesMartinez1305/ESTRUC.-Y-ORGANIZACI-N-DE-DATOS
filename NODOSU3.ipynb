{
  "nbformat": 4,
  "nbformat_minor": 0,
  "metadata": {
    "colab": {
      "provenance": [],
      "authorship_tag": "ABX9TyNFKDw6QfxfUVe1zRXznZA6",
      "include_colab_link": true
    },
    "kernelspec": {
      "name": "python3",
      "display_name": "Python 3"
    },
    "language_info": {
      "name": "python"
    }
  },
  "cells": [
    {
      "cell_type": "markdown",
      "metadata": {
        "id": "view-in-github",
        "colab_type": "text"
      },
      "source": [
        "<a href=\"https://colab.research.google.com/github/MoisesMartinez1305/ESTRUC.-Y-ORGANIZACI-N-DE-DATOS/blob/UNIDAD-3/NODOSU3.ipynb\" target=\"_parent\"><img src=\"https://colab.research.google.com/assets/colab-badge.svg\" alt=\"Open In Colab\"/></a>"
      ]
    },
    {
      "cell_type": "code",
      "execution_count": 1,
      "metadata": {
        "colab": {
          "base_uri": "https://localhost:8080/"
        },
        "id": "fXXcr2dm1IP6",
        "outputId": "eaba634c-470e-4b47-f91e-1449c7055643"
      },
      "outputs": [
        {
          "output_type": "stream",
          "name": "stdout",
          "text": [
            "<bound method Nodo.dato of <__main__.Nodo object at 0x7f2692d35f90>> <bound method Nodo.proximo of <__main__.Nodo object at 0x7f2692d35f90>>\n",
            "<bound method Nodo.dato of <__main__.Nodo object at 0x7f2692d3f290>> <bound method Nodo.proximo of <__main__.Nodo object at 0x7f2692d3f290>>\n",
            "<bound method Nodo.dato of <__main__.Nodo object at 0x7f2692d3f310>> <bound method Nodo.proximo of <__main__.Nodo object at 0x7f2692d3f310>>\n",
            "Nodo [melon]\n",
            "Nodo [guayaba]\n",
            "Nodo [mora]\n"
          ]
        }
      ],
      "source": [
        "class Nodo(object):\n",
        "    def __init__( self, dato,prox=None ):\n",
        "        self.Dato = dato\n",
        "        self.Prox = prox\n",
        "\n",
        "    def __str__(self):\n",
        "        return 'Nodo ['+str(self.Dato)+']'\n",
        "\n",
        "    def dato(self):\n",
        "        return self.Dato\n",
        "    def dato(self,dato):\n",
        "        self.Dato = dato\n",
        "    def proximo(self):\n",
        "        return self.Prox\n",
        "    def proximo(self,prox):\n",
        "        self.Prox = prox \n",
        "if __name__ == '__main__':\n",
        "    nodo1 = Nodo(\"melon\")\n",
        "    nodo2 = Nodo(\"guayaba\",nodo1)\n",
        "    nodo3 = Nodo(\"mora\",nodo2)\n",
        "    print (nodo1.dato,nodo1.proximo)\n",
        "    print (nodo2.dato,nodo2.proximo)\n",
        "    print (nodo3.dato,nodo3.proximo)\n",
        "    print (nodo1)\n",
        "    print (nodo2)\n",
        "    print (nodo3)"
      ]
    }
  ]
}