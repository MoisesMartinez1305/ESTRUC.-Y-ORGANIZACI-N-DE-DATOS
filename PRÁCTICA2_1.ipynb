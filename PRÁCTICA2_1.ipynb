{
  "nbformat": 4,
  "nbformat_minor": 0,
  "metadata": {
    "colab": {
      "provenance": [],
      "authorship_tag": "ABX9TyPK79bmy214dw3Z9FyqHGkl",
      "include_colab_link": true
    },
    "kernelspec": {
      "name": "python3",
      "display_name": "Python 3"
    },
    "language_info": {
      "name": "python"
    }
  },
  "cells": [
    {
      "cell_type": "markdown",
      "metadata": {
        "id": "view-in-github",
        "colab_type": "text"
      },
      "source": [
        "<a href=\"https://colab.research.google.com/github/MoisesMartinez1305/ESTRUC.-Y-ORGANIZACI-N-DE-DATOS/blob/UNIDAD-1/PR%C3%81CTICA2_1.ipynb\" target=\"_parent\"><img src=\"https://colab.research.google.com/assets/colab-badge.svg\" alt=\"Open In Colab\"/></a>"
      ]
    },
    {
      "cell_type": "code",
      "execution_count": null,
      "metadata": {
        "colab": {
          "base_uri": "https://localhost:8080/"
        },
        "id": "urpy3WHkuZDO",
        "outputId": "eb106012-3bac-4005-99c1-6cd9a90513a3"
      },
      "outputs": [
        {
          "output_type": "stream",
          "name": "stdout",
          "text": [
            "carne\n",
            "An exception ocurred\n"
          ]
        }
      ],
      "source": [
        "factura=['pan','carne',100,1234]\n",
        "print(factura[-3])\n",
        "try:\n",
        "  print(factura[-5])\n",
        "except:\n",
        "  print(\"An exception ocurred\")"
      ]
    },
    {
      "cell_type": "code",
      "source": [],
      "metadata": {
        "id": "M8QWBjWWBNgK"
      },
      "execution_count": null,
      "outputs": []
    },
    {
      "cell_type": "code",
      "source": [
        "arreglo2= [2.5, 3.6, 4, 5]\n",
        "print (arreglo2)\n",
        "arreglo2.append(6)\n",
        "print (arreglo2)"
      ],
      "metadata": {
        "colab": {
          "base_uri": "https://localhost:8080/"
        },
        "id": "nyJ-Ut4UyIFE",
        "outputId": "a5e78e4c-8c90-41d0-956d-d387f5bc9f9c"
      },
      "execution_count": null,
      "outputs": [
        {
          "output_type": "stream",
          "name": "stdout",
          "text": [
            "[2.5, 3.6, 4, 5]\n",
            "[2.5, 3.6, 4, 5, 6]\n"
          ]
        }
      ]
    },
    {
      "cell_type": "code",
      "source": [
        "arre2= [21, 25, 36, 4,5, 6]\n",
        "print (\"6 - >\", arre2.count(6))\n",
        "print (\"5 - >\", arre2.count(5))\n",
        "print (\"25 - >\", arre2.count(25))"
      ],
      "metadata": {
        "colab": {
          "base_uri": "https://localhost:8080/"
        },
        "id": "mPJSIFq_zyzo",
        "outputId": "d7891432-cfaa-4640-dd48-a9e10145a523"
      },
      "execution_count": null,
      "outputs": [
        {
          "output_type": "stream",
          "name": "stdout",
          "text": [
            "6 - > 1\n",
            "5 - > 1\n",
            "25 - > 1\n"
          ]
        }
      ]
    },
    {
      "cell_type": "code",
      "source": [
        "arre3=[21,25,36]\n",
        "print (arre3)\n",
        "arre3.extend([4])\n",
        "print(arre3)\n",
        "arre3.extend(range(5,7))\n",
        "print(arre3)"
      ],
      "metadata": {
        "colab": {
          "base_uri": "https://localhost:8080/"
        },
        "id": "DH1B4xDT16xz",
        "outputId": "75aaa418-2dc5-4118-c5c2-0e5566f8d9f6"
      },
      "execution_count": null,
      "outputs": [
        {
          "output_type": "stream",
          "name": "stdout",
          "text": [
            "[21, 25, 36]\n",
            "[21, 25, 36, 4]\n",
            "[21, 25, 36, 4, 5, 6]\n"
          ]
        }
      ]
    },
    {
      "cell_type": "code",
      "source": [
        "arre4=[21,25,36,4,5,6,4]\n",
        "arre4[2]\n",
        "print(arre4.index(4,2))\n",
        "arre4[3]\n",
        "print(arre4.index(4,5))\n",
        "\n"
      ],
      "metadata": {
        "colab": {
          "base_uri": "https://localhost:8080/"
        },
        "id": "-smP-UFm3L95",
        "outputId": "470a3543-cdf8-45d9-e23b-9dcb80a31461"
      },
      "execution_count": null,
      "outputs": [
        {
          "output_type": "stream",
          "name": "stdout",
          "text": [
            "3\n",
            "6\n"
          ]
        }
      ]
    },
    {
      "cell_type": "code",
      "source": [
        "arre5=[21,25,36,5,6,4]\n",
        "print(arre5.index(9))\n",
        "#File \"<stdin>\", line 1, in <module>\n"
      ],
      "metadata": {
        "colab": {
          "base_uri": "https://localhost:8080/",
          "height": 200
        },
        "id": "fgjh3vFq5FfZ",
        "outputId": "fae1ffee-230d-48c6-83b6-891400812e80"
      },
      "execution_count": null,
      "outputs": [
        {
          "output_type": "error",
          "ename": "ValueError",
          "evalue": "ignored",
          "traceback": [
            "\u001b[0;31m---------------------------------------------------------------------------\u001b[0m",
            "\u001b[0;31mValueError\u001b[0m                                Traceback (most recent call last)",
            "\u001b[0;32m<ipython-input-14-d24b12e90b30>\u001b[0m in \u001b[0;36m<module>\u001b[0;34m\u001b[0m\n\u001b[1;32m      1\u001b[0m \u001b[0marre5\u001b[0m\u001b[0;34m=\u001b[0m\u001b[0;34m[\u001b[0m\u001b[0;36m21\u001b[0m\u001b[0;34m,\u001b[0m\u001b[0;36m25\u001b[0m\u001b[0;34m,\u001b[0m\u001b[0;36m36\u001b[0m\u001b[0;34m,\u001b[0m\u001b[0;36m5\u001b[0m\u001b[0;34m,\u001b[0m\u001b[0;36m6\u001b[0m\u001b[0;34m,\u001b[0m\u001b[0;36m4\u001b[0m\u001b[0;34m]\u001b[0m\u001b[0;34m\u001b[0m\u001b[0;34m\u001b[0m\u001b[0m\n\u001b[0;32m----> 2\u001b[0;31m \u001b[0mprint\u001b[0m\u001b[0;34m(\u001b[0m\u001b[0marre5\u001b[0m\u001b[0;34m.\u001b[0m\u001b[0mindex\u001b[0m\u001b[0;34m(\u001b[0m\u001b[0;36m9\u001b[0m\u001b[0;34m)\u001b[0m\u001b[0;34m)\u001b[0m\u001b[0;34m\u001b[0m\u001b[0;34m\u001b[0m\u001b[0m\n\u001b[0m\u001b[1;32m      3\u001b[0m \u001b[0;31m#File \"<stdin>\", line 1, in <module>\u001b[0m\u001b[0;34m\u001b[0m\u001b[0;34m\u001b[0m\u001b[0;34m\u001b[0m\u001b[0m\n",
            "\u001b[0;31mValueError\u001b[0m: 9 is not in list"
          ]
        }
      ]
    },
    {
      "cell_type": "code",
      "source": [
        "arre6=[21,25,36,4,5,6]\n",
        "print(arre6)\n",
        "arre6.insert(2,37)\n",
        "print (arre6)\n"
      ],
      "metadata": {
        "colab": {
          "base_uri": "https://localhost:8080/"
        },
        "id": "l-BrPVCj6l3E",
        "outputId": "2bf529fc-f883-4682-9172-1fabd913be2b"
      },
      "execution_count": null,
      "outputs": [
        {
          "output_type": "stream",
          "name": "stdout",
          "text": [
            "[21, 25, 36, 4, 5, 6]\n",
            "[21, 25, 37, 36, 4, 5, 6]\n"
          ]
        }
      ]
    },
    {
      "cell_type": "code",
      "source": [
        "arre7=[21,25,36,4,5,6]\n",
        "print(arre7.pop())\n",
        "print(arre7)"
      ],
      "metadata": {
        "colab": {
          "base_uri": "https://localhost:8080/"
        },
        "id": "9O-8kT4o7ctL",
        "outputId": "74148273-77b4-48c4-8332-e9999951b08d"
      },
      "execution_count": null,
      "outputs": [
        {
          "output_type": "stream",
          "name": "stdout",
          "text": [
            "6\n",
            "[21, 25, 36, 4, 5]\n"
          ]
        }
      ]
    },
    {
      "cell_type": "code",
      "source": [
        "arre8=[21,25,36,4,5,6]\n",
        "print (arre8)\n",
        "arre8.remove(25)\n",
        "print(arre8)\n"
      ],
      "metadata": {
        "colab": {
          "base_uri": "https://localhost:8080/"
        },
        "id": "OiLFpT8K8QzC",
        "outputId": "6cacec9d-8148-46ec-bda3-c004b6593651"
      },
      "execution_count": null,
      "outputs": [
        {
          "output_type": "stream",
          "name": "stdout",
          "text": [
            "[21, 25, 36, 4, 5, 6]\n",
            "[21, 36, 4, 5, 6]\n"
          ]
        }
      ]
    },
    {
      "cell_type": "code",
      "source": [
        "arre9=[21,25,36,4,5,6]\n",
        "print(arre9)\n",
        "arre9.reverse()\n",
        "print(arre9)"
      ],
      "metadata": {
        "colab": {
          "base_uri": "https://localhost:8080/"
        },
        "id": "tJklSRG68uWL",
        "outputId": "f555ff4c-d5cf-4dac-a14b-5179685e404f"
      },
      "execution_count": null,
      "outputs": [
        {
          "output_type": "stream",
          "name": "stdout",
          "text": [
            "[21, 25, 36, 4, 5, 6]\n",
            "[6, 5, 4, 36, 25, 21]\n"
          ]
        }
      ]
    },
    {
      "cell_type": "code",
      "source": [
        "arre10=[21,25,36,4,5,6]\n",
        "print(arre10)\n",
        "arre10.sort()\n",
        "print(arre10)"
      ],
      "metadata": {
        "colab": {
          "base_uri": "https://localhost:8080/"
        },
        "id": "BSETDWnQ9HhR",
        "outputId": "1189ff91-3661-4f1b-ca2e-64f1d696fb39"
      },
      "execution_count": null,
      "outputs": [
        {
          "output_type": "stream",
          "name": "stdout",
          "text": [
            "[21, 25, 36, 4, 5, 6]\n",
            "[4, 5, 6, 21, 25, 36]\n"
          ]
        }
      ]
    }
  ]
}